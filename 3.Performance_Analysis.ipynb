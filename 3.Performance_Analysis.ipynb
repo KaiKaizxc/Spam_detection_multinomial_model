{
 "cells": [
  {
   "cell_type": "markdown",
   "metadata": {},
   "source": [
    "<h2>Accuracy is not a good measure of how good the model built is</h2>\n",
    "\n",
    "<p><b>Why?</b></p>"
   ]
  },
  {
   "cell_type": "markdown",
   "metadata": {},
   "source": [
    "<p>So let's say theres another model that predicts everything as spam despite of whether it is really a spam or not. </p>\n",
    "\n",
    "<p>And another test set that has 90% spam messages and 10% not spam messages. That another model would achieve an accurace of 90%, compared to my model's 72%.</p>\n",
    "\n",
    "<p>Is this other model really better then?</p>"
   ]
  },
  {
   "cell_type": "markdown",
   "metadata": {},
   "source": [
    "<h2>Accuracy only looks at True Positive and True Negatives, we ought to look at other metrics for testing performance as well.</h2>"
   ]
  },
  {
   "cell_type": "code",
   "execution_count": 6,
   "metadata": {},
   "outputs": [
    {
     "data": {
      "image/png": "[encoded data removed]",
      "text/plain": [
       "<Figure size 432x288 with 2 Axes>"
      ]
     },
     "metadata": {},
     "output_type": "display_data"
    }
   ],
   "source": [
    "import seaborn as sb\n",
    "import matplotlib.pyplot as plt\n",
    "sb.set()\n",
    "\n",
    "truePositive = 146 \n",
    "trueNegative = 661\n",
    "\n",
    "falsePositive = 306\n",
    "falseNegative = 1\n",
    "\n",
    "\n",
    "\n",
    "matrixArray = [[146, 306], [1, 661]]\n",
    "ax = sb.heatmap(matrixArray, annot = True, cmap = \"Blues\")\n",
    "ax.set_title(\"Confusion matrix on spam detection\")\n",
    "ax.set_xlabel(\"\\n Actual Result\")\n",
    "ax.set_ylabel(\"\\n Predicted Result\")\n",
    "\n",
    "ax.xaxis.set_ticklabels([\"spam\", \"legit\"])\n",
    "ax.yaxis.set_ticklabels([\"spam\", \"legit\"])\n",
    "plt.show()"
   ]
  },
  {
   "cell_type": "code",
   "execution_count": 7,
   "metadata": {},
   "outputs": [
    {
     "name": "stdout",
     "output_type": "stream",
     "text": [
      "Sensitivity: 0.9931972789115646\n",
      "Specificity: 0.6835573940020683\n",
      "Precision: 0.3230088495575221\n"
     ]
    }
   ],
   "source": [
    "Sensitivity = truePositive / (truePositive + falseNegative) # model's ability to classify spam messages\n",
    "Specificity = trueNegative / (trueNegative + falsePositive) # model's ability to predict not spam messages\n",
    "Precision = truePositive / (truePositive + falsePositive) # how many times did i correctly classify a spam? \n",
    "\n",
    "\n",
    "print(\"Sensitivity:\", Sensitivity)\n",
    "print(\"Specificity:\", Specificity)\n",
    "print(\"Precision:\", Precision)\n",
    "\n"
   ]
  },
  {
   "cell_type": "markdown",
   "metadata": {},
   "source": [
    "<p>Perhaps we could do some hyperParameter tuning to gauge what should be considered a spam or not spam message? We can do: </p>\n",
    "\n",
    "<ul>\n",
    "    <li>Holdout Validation</li>\n",
    "    <li>K-Fold Cross-validation</li>\n",
    "    <li>Tuning of Decision-threshholds (in our case, its just whose probability is higher)</li>\n",
    "</ul>\n",
    "\n",
    "<p>Repeat the process with different gauges for spam and not spam based on different</p>"
   ]
  },
  {
   "cell_type": "markdown",
   "metadata": {},
   "source": []
  }
 ],
 "metadata": {
  "interpreter": {
   "hash": "610a6f344c2137faf927ea819c63f6cee33a2c04455044b28099f39fe9722347"
  },
  "kernelspec": {
   "display_name": "Python 3.9.7 ('base')",
   "language": "python",
   "name": "python3"
  },
  "language_info": {
   "codemirror_mode": {
    "name": "ipython",
    "version": 3
   },
   "file_extension": ".py",
   "mimetype": "text/x-python",
   "name": "python",
   "nbconvert_exporter": "python",
   "pygments_lexer": "ipython3",
   "version": "3.9.7"
  },
  "orig_nbformat": 4
 },
 "nbformat": 4,
 "nbformat_minor": 2
}
